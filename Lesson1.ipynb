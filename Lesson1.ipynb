{
 "cells": [
  {
   "cell_type": "markdown",
   "metadata": {},
   "source": [
    "## Линейное пространство. Основные понятия. Часть 1"
   ]
  },
  {
   "cell_type": "markdown",
   "metadata": {},
   "source": [
    "#### Задание 1. \n",
    "    Исследовать на линейную зависимость:\n",
    "$$f_{1}(x)=e^{x}, f_{2}(x)=1, f_{3}(x)=x+1, f_{4}(x)=x-e^{x}.$$"
   ]
  },
  {
   "cell_type": "markdown",
   "metadata": {},
   "source": [
    "Заметим, что $f_{4}(x)=f_{3}(x)-f_{2}(x)-f_{1}(x)$ - линейно зависимы."
   ]
  },
  {
   "cell_type": "markdown",
   "metadata": {},
   "source": [
    "#### Задание 2.\n",
    "    Исследовать на линейную зависимость:\n",
    "$$f_{1}(x)=2, f_{2}(x)=x, f_{3}(x)=x^{2}, f_{4}(x)=(x+1)^{2}.$$"
   ]
  },
  {
   "cell_type": "markdown",
   "metadata": {},
   "source": [
    "$f_{4}(х)= x^2 + 2x + 1$ - раскроем скобки и посмотрим, что получится.\n",
    "\n",
    "$f_{4}(х)=f_{3}(х)+2 \\cdot f_{2}(х)+\\frac{1}{2} \\cdot f_{1}(х)$ - линейно зависимы."
   ]
  },
  {
   "cell_type": "markdown",
   "metadata": {},
   "source": [
    "#### Задание 3. \n",
    "    Найти координаты вектора \n",
    "$x = (2, 3, 5)\\in \\mathbb{R}^{3}$ в базисе $b_{1}=(0, 0, 10)$, $b_{2}=(2, 0, 0)$, $b_{3}=(0, 1, 0)$."
   ]
  },
  {
   "cell_type": "markdown",
   "metadata": {},
   "source": [
    "$x=0.5\\cdot b_{1}+1\\cdot b_{2}+3\\cdot b_{3}.$\n",
    "\n",
    "Кординаты ветокра: (0.5, 1, 3)"
   ]
  },
  {
   "cell_type": "markdown",
   "metadata": {},
   "source": [
    "#### Задание 4.\n",
    "Найти координаты вектора $3x^{2}-2x+2\\in\\mathbb{R}^{3}[x]$:\n",
    "\n",
    "   а) в базисе $1$, $x$, $x^{2}$;\n",
    "   \n",
    "$3x^{2}-2x+2=2\\cdot1+(-2)\\cdot x + 3\\cdot x^{2}$\n",
    "\n",
    "Координатами вектора x в стандартном базисе являются (2, -2, 3)\n",
    "\n",
    "   б) в базисе $x^{2}$, $x-1$, $1$.\n",
    "   \n",
    "$3x^{2}-2x+2=3\\cdot x^{2}+2\\cdot(x-1)+0\\cdot1$\n",
    "\n",
    "Координатами вектора x в стандартном базисе являются (3, -2, 0)"
   ]
  },
  {
   "cell_type": "markdown",
   "metadata": {},
   "source": [
    "#### Задание 5.\n",
    "    Установить, является ли линейным подпространством:\n",
    "\n",
    "а) совокупность всех векторов трехмерного пространства, у которых по крайней мере одна из первых двух координат равна нулю;\n",
    "    \n",
    "б) все векторы, являющиеся линейными комбинациями данных векторов $\\{u_{1}, u_{2}, ..., u_{n}\\}$."
   ]
  },
  {
   "cell_type": "markdown",
   "metadata": {},
   "source": [
    "a) $(a1, 0, с1) + (0, b2, c2) = (a1, b2, c1 + c2)$ - неoбразуют линейного пространства."
   ]
  },
  {
   "cell_type": "markdown",
   "metadata": {},
   "source": [
    "б) $x_{1}=a_{1}\\cdot u_{1}+a_{2}\\cdot u_{2}+...+a_{n}\\cdot u_{n}$\n",
    "\n",
    "$x_{2}=b_{1}\\cdot u_{1}+b_{2}\\cdot u_{2}+...+b_{n}\\cdot u_{n}$\n",
    "\n",
    "$\\alpha\\cdot x_{1}=\\alpha\\cdot a_{1}\\cdot u_{1}+\\alpha\\cdot a_{2} \\cdot u_{2}+...+\\alpha\\cdot a_{n} \\cdot u_{n}=c_{1}\\cdot u_{1}+c_{2}\\cdot u_{2}+...+c_{n}\\cdot u_{n}$\n",
    "\n",
    "$x_{1}+x_{2}=(a_{1}+b_{1})\\cdot u_{1}+(a_{2}+b_{2})\\cdot u_{2}+...+(a_{n}+b_{n})\\cdot u_{n}=d_{1}\\cdot u_{1}+d_{2}\\cdot u_{2}+...+d_{n}\\cdot u_{n}$\n",
    "\n",
    "Ответ - является линейным подпространством."
   ]
  },
  {
   "cell_type": "markdown",
   "metadata": {},
   "source": [
    "## Линейное пространство. Основные понятия. Часть 2"
   ]
  },
  {
   "cell_type": "code",
   "execution_count": 12,
   "metadata": {},
   "outputs": [],
   "source": [
    "import numpy as np\n",
    "from numpy.linalg import norm"
   ]
  },
  {
   "cell_type": "markdown",
   "metadata": {},
   "source": [
    "#### Задание 1. \n",
    "Найти скалярное произведение векторов $x, y \\in \\mathbb{R}$:<br>\n",
    "а) $x=(0,-3, 6),~y=(-4, 7, 9);$<br>\n",
    "б) $x=(7, -4, 0, 1),~y=(-3, 1, 11, 2).$"
   ]
  },
  {
   "cell_type": "code",
   "execution_count": 7,
   "metadata": {},
   "outputs": [
    {
     "name": "stdout",
     "output_type": "stream",
     "text": [
      "Скалярное произведение векторов x и y: 33\n"
     ]
    }
   ],
   "source": [
    "# a) \n",
    "x = np.array([0, -3, 6])\n",
    "y = np.array([-4, 7, 9])\n",
    "print(f'Скалярное произведение векторов x и y: {np.dot(x, y)}')"
   ]
  },
  {
   "cell_type": "code",
   "execution_count": 8,
   "metadata": {},
   "outputs": [
    {
     "name": "stdout",
     "output_type": "stream",
     "text": [
      "Скалярное произведение векторов x и y: -23\n"
     ]
    }
   ],
   "source": [
    "# б) \n",
    "x = np.array([7, -4, 0, 1])\n",
    "y = np.array([-3, 1, 11, 2])\n",
    "print(f'Скалярное произведение векторов x и y: {np.dot(x, y)}')"
   ]
  },
  {
   "cell_type": "markdown",
   "metadata": {},
   "source": [
    "#### Задание 2. \n",
    "Найти нормы векторов $(4, 2, 4)$ и $(12, 3, 4)$ и угол между ними."
   ]
  },
  {
   "cell_type": "code",
   "execution_count": 13,
   "metadata": {},
   "outputs": [
    {
     "name": "stdout",
     "output_type": "stream",
     "text": [
      "l2 норма вектора a:\n",
      "6.0\n",
      "l2 норма вектора b:\n",
      "13.0\n"
     ]
    }
   ],
   "source": [
    "a = np.array([4, 2, 4])\n",
    "b = np.array([12, 3, 4])\n",
    "print(f'l2 норма вектора a:\\n{norm(a, ord=2)}')\n",
    "print(f'l2 норма вектора b:\\n{norm(b, ord=2)}')"
   ]
  },
  {
   "cell_type": "code",
   "execution_count": 16,
   "metadata": {},
   "outputs": [
    {
     "name": "stdout",
     "output_type": "stream",
     "text": [
      "Косинус угла между a и b: 0.8974\n",
      "Угол между a и b: 0.4569\n"
     ]
    }
   ],
   "source": [
    "cos_phi = np.dot(a, b) / norm(a) / norm(b)\n",
    "print(f'Косинус угла между a и b: {cos_phi:.4f}')\n",
    "print(f'Угол между a и b: {np.arccos(cos_phi):.4f}')"
   ]
  },
  {
   "cell_type": "markdown",
   "metadata": {},
   "source": [
    "#### Задание 3. \n",
    "Будет ли линейное пространство евклидовым, если за скалярное произведение принять:<br>\n",
    "а) произведение длин векторов;<br>\n",
    "б) утроенное обычное скалярное произведение векторов?"
   ]
  },
  {
   "cell_type": "markdown",
   "metadata": {},
   "source": [
    "Линейное пространство над полем вещественных чисел называется евклидовым пространством, если на нем введено правило, согласно которому каждой упорядоченной паре векторов $x$ и $y$ поставлено в соответствие вещественное число, называемое скалярным произведением и обозначаемое символом $(x, y)$.\n",
    "\n",
    "При этом указанное правило должно подчиняться четырем аксиомам:\n",
    "1) $(x,y)=(y,x);$\n",
    "\n",
    "2) $(\\lambda x, y)=\\lambda(x, y);$\n",
    "\n",
    "3) $(x_{1}+x_{2},y)=(x_{1},y)+(x_{2},y);$\n",
    "\n",
    "4) $(x, x)\\geq0$, при этом $(x,x)=0\\Leftrightarrow x=0.$\n",
    "\n",
    "а) произведение длин векторов;\n",
    "\n",
    "__Ответ - Нет__\n",
    "\n",
    "б) утроенное обычное скалярное произведение векторов?\n",
    "\n",
    "__Ответ - Да__"
   ]
  },
  {
   "cell_type": "markdown",
   "metadata": {},
   "source": [
    "#### Задание 4. \n",
    "Какие из нижеперечисленных векторов образуют ортонормированный базис в линейном пространстве $\\mathbb{R}^{3}$:<br>\n",
    "а) $(1,0,0),(0,0,1);$ <br>"
   ]
  },
  {
   "cell_type": "code",
   "execution_count": 17,
   "metadata": {},
   "outputs": [
    {
     "name": "stdout",
     "output_type": "stream",
     "text": [
      "Скалярное произведение a и b:\n",
      "0\n",
      "Сумма произведений координат векторов a и b:\n",
      "0\n"
     ]
    }
   ],
   "source": [
    "a = np.array([1,0,0])\n",
    "b = np.array([0,0,1])\n",
    "print(f'Скалярное произведение a и b:\\n{np.dot(a, b)}')\n",
    "print(f'Сумма произведений координат векторов a и b:\\n0')"
   ]
  },
  {
   "cell_type": "markdown",
   "metadata": {},
   "source": [
    "__Да, векторы образуют ортонормированный базис__"
   ]
  },
  {
   "cell_type": "markdown",
   "metadata": {},
   "source": [
    "б) $(1/\\sqrt{2},-1/\\sqrt{2},0),(1/\\sqrt{2},1/\\sqrt{2},0), (0,0,1);$<br>"
   ]
  },
  {
   "cell_type": "code",
   "execution_count": 19,
   "metadata": {},
   "outputs": [
    {
     "name": "stdout",
     "output_type": "stream",
     "text": [
      "Скалярное произведение a, b:\n",
      "0.0\n",
      "Сумма произведений координат векторов a и b:\n",
      "0\n",
      "Скалярное произведение b, c:\n",
      "0.0\n",
      "Сумма произведений координат векторов b и c:\n",
      "0\n"
     ]
    }
   ],
   "source": [
    "a = np.array([1/np.sqrt(2), -1/np.sqrt(2), 0])\n",
    "b = np.array([1/np.sqrt(2), 1/np.sqrt(2), 0])\n",
    "c = np.array([0, 0, 1])\n",
    "print(f'Скалярное произведение a, b:\\n{np.dot(a, b)}')\n",
    "print(f'Сумма произведений координат векторов a и b:\\n0')\n",
    "print(f'Скалярное произведение b, c:\\n{np.dot(b, c)}')\n",
    "print(f'Сумма произведений координат векторов b и c:\\n0')"
   ]
  },
  {
   "cell_type": "markdown",
   "metadata": {},
   "source": [
    "__Да, векторы образуют ортонормированный базис__"
   ]
  },
  {
   "cell_type": "markdown",
   "metadata": {},
   "source": [
    "в) $(1/2, -1/2, 0), (0, 1/2, 1/2), (0,0,1);$<br>"
   ]
  },
  {
   "cell_type": "code",
   "execution_count": 20,
   "metadata": {},
   "outputs": [
    {
     "name": "stdout",
     "output_type": "stream",
     "text": [
      "Скалярное произведение a, b:\n",
      "-0.25\n",
      "Сумма произведений координат векторов a и b:\n",
      "-1/4\n",
      "Скалярное произведение b, c:\n",
      "0.5\n",
      "Сумма произведений координат векторов b и c:\n",
      "1/2\n"
     ]
    }
   ],
   "source": [
    "a = np.array([1/2, -1/2, 0])\n",
    "b = np.array([0, 1/2, 1/2])\n",
    "c = np.array([0, 0, 1])\n",
    "print(f'Скалярное произведение a, b:\\n{np.dot(a, b)}')\n",
    "print(f'Сумма произведений координат векторов a и b:\\n-1/4')\n",
    "print(f'Скалярное произведение b, c:\\n{np.dot(b, c)}')\n",
    "print(f'Сумма произведений координат векторов b и c:\\n1/2')"
   ]
  },
  {
   "cell_type": "markdown",
   "metadata": {},
   "source": [
    "__Да, векторы образуют ортонормированный базис__"
   ]
  },
  {
   "cell_type": "markdown",
   "metadata": {},
   "source": [
    "г) $(1,0,0),(0,1,0),(0,0,1)?$ "
   ]
  },
  {
   "cell_type": "code",
   "execution_count": 22,
   "metadata": {},
   "outputs": [
    {
     "name": "stdout",
     "output_type": "stream",
     "text": [
      "Скалярное произведение a, b:\n",
      "0\n",
      "Сумма произведений координат векторов a и b:\n",
      "0\n",
      "Скалярное произведение b, c:\n",
      "0\n",
      "Сумма произведений координат векторов b и c:\n",
      "0\n"
     ]
    }
   ],
   "source": [
    "a = np.array([1, 0, 0])\n",
    "b = np.array([0, 1, 0])\n",
    "c = np.array([0, 0, 1])\n",
    "print(f'Скалярное произведение a, b:\\n{np.dot(a, b)}')\n",
    "print(f'Сумма произведений координат векторов a и b:\\n0')\n",
    "print(f'Скалярное произведение b, c:\\n{np.dot(b, c)}')\n",
    "print(f'Сумма произведений координат векторов b и c:\\n0')"
   ]
  },
  {
   "cell_type": "markdown",
   "metadata": {},
   "source": [
    "__Да, векторы образуют ортонормированный базис__"
   ]
  }
 ],
 "metadata": {
  "kernelspec": {
   "display_name": "Python 3",
   "language": "python",
   "name": "python3"
  },
  "language_info": {
   "codemirror_mode": {
    "name": "ipython",
    "version": 3
   },
   "file_extension": ".py",
   "mimetype": "text/x-python",
   "name": "python",
   "nbconvert_exporter": "python",
   "pygments_lexer": "ipython3",
   "version": "3.8.5"
  }
 },
 "nbformat": 4,
 "nbformat_minor": 4
}
