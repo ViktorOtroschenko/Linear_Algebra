{
 "cells": [
  {
   "cell_type": "markdown",
   "metadata": {},
   "source": [
    "# Системы линейных уравнений. Часть 1"
   ]
  },
  {
   "cell_type": "markdown",
   "metadata": {},
   "source": [
    "#### Задание №1\n",
    "Решить систему уравнений методом Гаусса:\n",
    "\n",
    "$$\\begin{cases}\n",
    "x_{1}+x_{2}-x_{3}-2x_{4}=0, \\\\\n",
    "2x_{1}+x_{2}-x_{3}+x_{4}=-2, \\\\\n",
    "x_{1}+x_{2}-3x_{3}+x_{4}=4.\n",
    "\\end{cases}$$"
   ]
  },
  {
   "cell_type": "markdown",
   "metadata": {},
   "source": [
    "Запишем расширенную матрицу системы:\n",
    "\n",
    "$$\\begin{pmatrix}\n",
    "\\left.\\begin{matrix}\n",
    "1 & 1 & -1 & -2 \\\\ \n",
    "2 & 1 & -1 & 1 \\\\ \n",
    "1 & 1 & -3 & 1\n",
    "\\end{matrix}\\right|\n",
    "\\begin{matrix}\n",
    "0\\\\ \n",
    "-2\\\\\n",
    "4\n",
    "\\end{matrix}\n",
    "\\end{pmatrix}.$$\n",
    "\n",
    "Вычитаем из 3 строки 1:\n",
    "\n",
    "$$\\begin{pmatrix}\n",
    "\\left.\\begin{matrix}\n",
    "1 & 1 & -1 & -2\\\\ \n",
    "2 & 1 & -1 & 1\\\\ \n",
    "0 & 0 & -2 & 3\n",
    "\\end{matrix}\\right|\n",
    "\\begin{matrix}\n",
    "0\\\\ \n",
    "-2\\\\\n",
    "4\n",
    "\\end{matrix}\n",
    "\\end{pmatrix}$$\n",
    "\n",
    "Вычтем из 2 строки 1, умноженную на 2:\n",
    "\n",
    "$$\\begin{pmatrix}\n",
    "\\left.\\begin{matrix}\n",
    "1 & 1 & -1 & -2\\\\ \n",
    "0 & -1 & 1 & 5\\\\ \n",
    "0 & 0 & -2 & 3\n",
    "\\end{matrix}\\right|\n",
    "\\begin{matrix}\n",
    "0\\\\ \n",
    "-2\\\\\n",
    "4\n",
    "\\end{matrix}\n",
    "\\end{pmatrix}$$\n",
    "\n",
    "В полученном ступенчатом виде мы имеем ступеньки из двух чисел, а не из одного, как это требуется. В таком случае система имеет бесконечное количество решений."
   ]
  },
  {
   "cell_type": "markdown",
   "metadata": {},
   "source": [
    "Последнее уравнение содержит две неизвестных. В данном случае можно рассматривать в качестве свободного параметра  $x_{4}=c$ . Тогда, выражая остальные переменные через  𝑐 , получим:\n",
    "\n",
    "$$x_{4}=c,$$\n",
    "\n",
    "$$-2x_{3}+3c=4 \\; \\Leftrightarrow \\; x_{3}=(3c-4)/2,$$\n",
    "\n",
    "$$-x_{2} + (3c-4)/2 + 5c= -2 \\; \\Leftrightarrow \\; x_{2}=13c/2,$$\n",
    "\n",
    "$$x_{1} + 13c/2 - (3c-4)/2 -2c= 0 \\; \\Leftrightarrow \\; x_{1}=-3c-2.$$"
   ]
  },
  {
   "cell_type": "markdown",
   "metadata": {},
   "source": [
    "#### Задание №2\n",
    "Проверить на совместность и выяснить, сколько решений будет иметь система линейных уравнений:\n",
    "\n",
    "   а) $\\begin{cases}\n",
    "3x_{1}-x_{2}+x_{3}=4, \\\\\n",
    "2x_{1}-5x_{2}-3x_{3}=-17, \\\\\n",
    "x_{1}+x_{2}-x_{3}=0;\n",
    "\\end{cases}$\n",
    "    \n",
    "   б) $\\begin{cases}\n",
    "2x_{1}-4x_{2}+6x_{3}=1, \\\\\n",
    "x_{1}-2x_{2}+3x_{3}=-2, \\\\\n",
    "3x_{1}-6x_{2}+9x_{3}=5;\n",
    "\\end{cases}$\n",
    "    \n",
    "   в) $\\begin{cases}\n",
    "x_{1}+2x_{2}+5x_{3}=4, \\\\\n",
    "3x_{1}+x_{2}-8x_{3}=-2. \n",
    "\\end{cases}$"
   ]
  },
  {
   "cell_type": "markdown",
   "metadata": {},
   "source": [
    "$a)$"
   ]
  },
  {
   "cell_type": "code",
   "execution_count": 2,
   "metadata": {},
   "outputs": [],
   "source": [
    "import numpy as np"
   ]
  },
  {
   "cell_type": "code",
   "execution_count": 3,
   "metadata": {},
   "outputs": [],
   "source": [
    "A = np.array([[3, -1, 1], [2, -5, -3], [1, 1, -1]])\n",
    "A_x = np.array([[3, -1, 1, 4], [2, -5, -3, -17], [1, 1, -1, 0]])"
   ]
  },
  {
   "cell_type": "code",
   "execution_count": 4,
   "metadata": {},
   "outputs": [
    {
     "name": "stdout",
     "output_type": "stream",
     "text": [
      "Ранг матрицы A: 3\n",
      "Ранг расширенной матрицы A: 3\n"
     ]
    }
   ],
   "source": [
    "print(f'Ранг матрицы A: {np.linalg.matrix_rank(A)}')\n",
    "print(f'Ранг расширенной матрицы A: {np.linalg.matrix_rank(A_x)}')"
   ]
  },
  {
   "cell_type": "markdown",
   "metadata": {},
   "source": [
    "$rankA=rank \\tilde A=n=3$, где $n$ — число неизвестных, то __система определена, т. е. имеет единственное решение__"
   ]
  },
  {
   "cell_type": "markdown",
   "metadata": {},
   "source": [
    "$б)$"
   ]
  },
  {
   "cell_type": "code",
   "execution_count": 11,
   "metadata": {},
   "outputs": [],
   "source": [
    "B = np.array([[2, -4, 6], [1, -2, 3], [3, -6, 9]])\n",
    "B_x = np.array([[2, -4, 6, 1], [1, -2, 3, -2], [3, -6, 9, 5]])"
   ]
  },
  {
   "cell_type": "code",
   "execution_count": 12,
   "metadata": {},
   "outputs": [
    {
     "name": "stdout",
     "output_type": "stream",
     "text": [
      "Ранг матрицы B: 1\n",
      "Ранг расширенной матрицы B: 2\n"
     ]
    }
   ],
   "source": [
    "print(f'Ранг матрицы B: {np.linalg.matrix_rank(B)}')\n",
    "print(f'Ранг расширенной матрицы B: {np.linalg.matrix_rank(B_x)}')"
   ]
  },
  {
   "cell_type": "markdown",
   "metadata": {},
   "source": [
    "$rankB<rank \\tilde B$, то __система несовместна__."
   ]
  },
  {
   "cell_type": "markdown",
   "metadata": {},
   "source": [
    "$в)$"
   ]
  },
  {
   "cell_type": "code",
   "execution_count": 13,
   "metadata": {},
   "outputs": [],
   "source": [
    "С = np.array([[1, 2, 5], [3, 1, -8]])\n",
    "С_x = np.array([[1, 2, 5, 4], [3, 1, -8, -2]])"
   ]
  },
  {
   "cell_type": "code",
   "execution_count": 14,
   "metadata": {},
   "outputs": [
    {
     "name": "stdout",
     "output_type": "stream",
     "text": [
      "Ранг матрицы С: 2\n",
      "Ранг расширенной матрицы С: 2\n"
     ]
    }
   ],
   "source": [
    "print(f'Ранг матрицы С: {np.linalg.matrix_rank(С)}')\n",
    "print(f'Ранг расширенной матрицы С: {np.linalg.matrix_rank(С_x)}')"
   ]
  },
  {
   "cell_type": "markdown",
   "metadata": {},
   "source": [
    "$rankС=rank \\tilde С<n$, то __система имеет бесконечное количество решений__"
   ]
  },
  {
   "cell_type": "markdown",
   "metadata": {},
   "source": [
    "#### Задание №3\n",
    "Проверить на совместность и выяснить, сколько решений будет иметь система линейных уравнений, заданная расширенной матрицей\n",
    "\n",
    "$$\\tilde{A}=\\begin{pmatrix}\n",
    "\\left.\\begin{matrix}\n",
    "1 & 3 & -2 & 4\\\\ \n",
    "0 & 5 & 0 & 1\\\\ \n",
    "0 & 0 & 3 & 0\\\\ \n",
    "0 & 0 & 0 & 2\n",
    "\\end{matrix}\\right|\n",
    "\\begin{matrix}\n",
    "3\\\\ \n",
    "2\\\\\n",
    "4\\\\\n",
    "1\n",
    "\\end{matrix}\n",
    "\\end{pmatrix}.$$"
   ]
  },
  {
   "cell_type": "code",
   "execution_count": 23,
   "metadata": {},
   "outputs": [],
   "source": [
    "A = np.array([[1, 3, -2, 4], [0, 5, 0, 1], [0, 0, 3, 0], [0, 0, 0, 2]])\n",
    "A_x = np.array([[1, 3, -2, 4, 3], [0, 5, 0, 1, 2], [0, 0, 3, 0, 4], [0, 0, 0, 2, 1]])"
   ]
  },
  {
   "cell_type": "code",
   "execution_count": 24,
   "metadata": {},
   "outputs": [
    {
     "name": "stdout",
     "output_type": "stream",
     "text": [
      "Ранг матрицы A: 4\n",
      "Ранг расширенной матрицы A: 4\n"
     ]
    }
   ],
   "source": [
    "print(f'Ранг матрицы A: {np.linalg.matrix_rank(A)}')\n",
    "print(f'Ранг расширенной матрицы A: {np.linalg.matrix_rank(A_x)}')"
   ]
  },
  {
   "cell_type": "markdown",
   "metadata": {},
   "source": [
    "$rankA=rank \\tilde A=n=4$, где $n$ — число неизвестных, то __система определена, т. е. имеет единственное решение__"
   ]
  },
  {
   "cell_type": "markdown",
   "metadata": {},
   "source": [
    "#### Задание №4\n",
    "Дана система линейных уравнений, заданная расширенной матрицей\n",
    "\n",
    "$$\\tilde{A}=\\begin{pmatrix}\n",
    "\\left.\\begin{matrix}\n",
    "1 & 2 & 3\\\\ \n",
    "4 & 5 & 6\\\\ \n",
    "7 & 8 & 9\n",
    "\\end{matrix}\\right|\n",
    "\\begin{matrix}\n",
    "a\\\\ \n",
    "b\\\\\n",
    "c\n",
    "\\end{matrix}\n",
    "\\end{pmatrix}.$$\n",
    "\n",
    "Найти соотношение между параметрами $a$, $b$ и $c$, при которых система является несовместной."
   ]
  },
  {
   "cell_type": "code",
   "execution_count": 25,
   "metadata": {},
   "outputs": [],
   "source": [
    "A = np.array([[1, 2, 3], [4, 5, 6], [7, 8, 9]])"
   ]
  },
  {
   "cell_type": "code",
   "execution_count": 27,
   "metadata": {},
   "outputs": [
    {
     "name": "stdout",
     "output_type": "stream",
     "text": [
      "Ранг матрицы A: 2\n"
     ]
    }
   ],
   "source": [
    "print(f'Ранг матрицы A: {np.linalg.matrix_rank(A)}')"
   ]
  },
  {
   "cell_type": "markdown",
   "metadata": {},
   "source": [
    "$\\begin{pmatrix}\n",
    "\\left.\\begin{matrix}\n",
    "1 & 2 & 3\\\\ \n",
    "0 & -3 & -6\\\\ \n",
    "0 & -6 & -12\n",
    "\\end{matrix}\\right|\n",
    "\\begin{matrix}\n",
    "a\\\\ \n",
    "b - 4a\\\\\n",
    "c - 7a\n",
    "\\end{matrix}\n",
    "\\end{pmatrix}\n",
    "\\Rightarrow\n",
    "\\begin{pmatrix}\n",
    "\\left.\\begin{matrix}\n",
    "1 & 2 & 3\\\\ \n",
    "0 & 1 & 2\\\\ \n",
    "0 & 0 & 0\n",
    "\\end{matrix}\\right|\n",
    "\\begin{matrix}\n",
    "a\\\\ \n",
    "(4a-b)/3\\\\\n",
    "c + a - 2b\n",
    "\\end{matrix}\n",
    "\\end{pmatrix}$"
   ]
  },
  {
   "cell_type": "markdown",
   "metadata": {},
   "source": [
    "__Cистема будет совместной__ только в том случае, __если c+a-2b=0__. Во всех остальных случаях система будет несовместна."
   ]
  },
  {
   "cell_type": "markdown",
   "metadata": {},
   "source": [
    "# Системы линейных уравнений. Часть 2"
   ]
  },
  {
   "cell_type": "markdown",
   "metadata": {},
   "source": [
    "#### Задание №1\n",
    "Решить систему уравнений методом Крамера:\n",
    "\n",
    "   а) $\\begin{cases}\n",
    "x_{1}-2x_{2}=1 \\\\\n",
    "3x_{1}-4x_{2}=7\n",
    "\\end{cases}$\n",
    "    \n",
    "   б) $\\begin{cases}\n",
    "2x_{1}-x_{2}+5x_{3}=10 \\\\\n",
    "x_{1}+x_{2}-3x_{3}=-2 \\\\\n",
    "2x_{1}+4x_{2}+x_{3}=1\n",
    "\\end{cases}$"
   ]
  },
  {
   "cell_type": "markdown",
   "metadata": {},
   "source": [
    "$a)$"
   ]
  },
  {
   "cell_type": "markdown",
   "metadata": {},
   "source": [
    "Найдем определитель матрицы коэффициентов:\n",
    "\n",
    "$$detA=\\begin{vmatrix}\n",
    "1 & -2\\\\ \n",
    "3 & -4\\\\ \n",
    "\\end{vmatrix}=\n",
    "=(1 \\cdot (-4)) - (-2\\cdot 3)=2\\neq 0,$$\n",
    "следовательно, система совместна"
   ]
  },
  {
   "cell_type": "markdown",
   "metadata": {},
   "source": [
    "Найдем определители $detA_{1}$, $detA_{2}$:"
   ]
  },
  {
   "cell_type": "markdown",
   "metadata": {},
   "source": [
    "$$detA_{1} = \\begin{vmatrix}\n",
    "1 & -2\\\\\n",
    "7 & -4\n",
    "\\end{vmatrix} =(1 \\cdot (-4)) - (-2\\cdot 7)=10$$"
   ]
  },
  {
   "cell_type": "markdown",
   "metadata": {},
   "source": [
    "$$detA_{2} = \\begin{vmatrix}\n",
    "1 & 1\\\\\n",
    "3 & 7\n",
    "\\end{vmatrix} =(1 \\cdot 7) - (1\\cdot 3)=4$$"
   ]
  },
  {
   "cell_type": "markdown",
   "metadata": {},
   "source": [
    "Найдем решение по формулам Крамера:\n",
    "\n",
    "$$x_{1} = \\frac{detA_{1}}{detA} = \\frac{10}{2}=5,$$\n",
    "\n",
    "$$x_{2} = \\frac{detA_{2}}{detA} = \\frac{4}{2}=2,$$"
   ]
  },
  {
   "cell_type": "markdown",
   "metadata": {},
   "source": [
    "$б)$"
   ]
  },
  {
   "cell_type": "markdown",
   "metadata": {},
   "source": [
    "Найдем определитель матрицы коэффициентов:\n",
    "\n",
    "$$det A = \\begin{vmatrix}\n",
    "2 & -1 & 5\\\\\n",
    "1 & 1 & -3\\\\\n",
    "2 & 4 & 1\n",
    "\\end{vmatrix} = 2 + 6 + 20 + 24 + 1 - 10 = 43\\neq 0,$$\n",
    "следовательно, система совместна"
   ]
  },
  {
   "cell_type": "markdown",
   "metadata": {},
   "source": [
    "Найдем определители $detA_{1}$, $detA_{2}$, $detA_{3}$:"
   ]
  },
  {
   "cell_type": "markdown",
   "metadata": {},
   "source": [
    "$$det A_1 = \\begin{vmatrix}\n",
    "10 & -1 & 5\\\\\n",
    "-2 & 1 & -3\\\\\n",
    "1 & 4 & 1\n",
    "\\end{vmatrix} = 10 + 3 - 40 - 5 - 2 + 120 = 86$$\n",
    "\n",
    "$$det A_2 = \\begin{vmatrix}\n",
    "2 & 10 & 5\\\\\n",
    "1 & -2 & -3\\\\\n",
    "2 & 1 & 1\n",
    "\\end{vmatrix} = -4 -60 +5 +20 -10 +6 = -43$$\n",
    "\n",
    "$$det A_3 = \\begin{vmatrix}\n",
    "2 & -1 & 10\\\\\n",
    "1 & 1 & -2\\\\\n",
    "2 & 4 & 1\n",
    "\\end{vmatrix} = 2 + 4 + 40 - 20 + 1 + 16 = 43$$"
   ]
  },
  {
   "cell_type": "markdown",
   "metadata": {},
   "source": [
    "Найдем решение по формулам Крамера:\n",
    "\n",
    "$$x_{1} = \\frac{detA_{1}}{detA} = \\frac{86}{43}=2,$$\n",
    "\n",
    "$$x_{2} = \\frac{detA_{2}}{detA} = \\frac{-43}{43}=-1,$$\n",
    "\n",
    "$$x_{3} = \\frac{detA_{3}}{detA} = \\frac{43}{43}=1,$$"
   ]
  },
  {
   "cell_type": "markdown",
   "metadata": {},
   "source": [
    "#### Задание №2*\n",
    "Найти $L$-матрицу $LU$-разложения для матрицы коэффициентов:\n",
    "\n",
    "   а)$$\\begin{pmatrix}\n",
    "1 & 2 & 4 \\\\ \n",
    "2 & 9 & 12 \\\\ \n",
    "3 & 26 & 30\n",
    "\\end{pmatrix}$$\n",
    "    \n",
    "   б)$$\\begin{pmatrix}\n",
    "1 & 1 & 2 & 4\\\\ \n",
    "2 & 5 & 8 & 9\\\\ \n",
    "3 & 18 & 29 & 18\\\\\n",
    "4 & 22 & 53 & 33\n",
    "\\end{pmatrix}$$"
   ]
  },
  {
   "cell_type": "markdown",
   "metadata": {},
   "source": [
    "$a)$ \n",
    "$$\\begin{pmatrix}\n",
    "1 & 2 & 4 \\\\ \n",
    "2 & 9 & 12 \\\\ \n",
    "3 & 26 & 30\n",
    "\\end{pmatrix}$$"
   ]
  },
  {
   "cell_type": "markdown",
   "metadata": {},
   "source": [
    "Вычтем из 2-ой строки 1-ю, умноженную на 2, а из 3-ей строки 1-ю, умноженную на 3$$\\begin{pmatrix}\n",
    "1 & 2 & 4\\\\ \n",
    "0 & 5 & 4\\\\ \n",
    "0 & 20 & 18\n",
    "\\end{pmatrix}$$ получим $$L = \\begin{pmatrix}\n",
    "1 & 0 & 0\\\\ \n",
    "2 & 1 & 0\\\\ \n",
    "3 & l_{32} & 1\n",
    "\\end{pmatrix}$$\n",
    "\n",
    "Вычтем из 3-ей строки 2-ую, умноженную на 4$$U = \\begin{pmatrix}\n",
    "1 & 2 & 4\\\\ \n",
    "0 & 5 & 4\\\\ \n",
    "0 & 0 & 2\n",
    "\\end{pmatrix}$$ получим $$L = \\begin{pmatrix}\n",
    "1 & 0 & 0\\\\ \n",
    "2 & 1 & 0\\\\ \n",
    "3 & 4 & 1\n",
    "\\end{pmatrix}$$"
   ]
  },
  {
   "cell_type": "markdown",
   "metadata": {},
   "source": [
    "$б)$\n",
    "$$\\begin{pmatrix}\n",
    "1 & 1 & 2 & 4\\\\ \n",
    "2 & 5 & 8 & 9\\\\ \n",
    "3 & 18 & 29 & 18\\\\\n",
    "4 & 22 & 53 & 33\n",
    "\\end{pmatrix}$$"
   ]
  },
  {
   "cell_type": "markdown",
   "metadata": {},
   "source": [
    "Преобразуем 2-ю, 3-ю, 4-ю строки, вычитая из них первую умноженную на коэффиценты:$$\\begin{pmatrix}\n",
    "1 & 1 & 2 & 4\\\\ \n",
    "0 & 3 & 4 & 1\\\\ \n",
    "0 & 15 & 23 & 6\\\\\n",
    "0 & 18 & 45 & 17\n",
    "\\end{pmatrix}$$ получим $$L = \\begin{pmatrix}\n",
    "1 & 0 & 0 & 0\\\\ \n",
    "2 & 1 & 0 & 0\\\\ \n",
    "3 & l_{32} & 1 & 0\\\\ \n",
    "4 & l_{33} & l_{34} & 1\n",
    "\\end{pmatrix}$$\n",
    "\n",
    "Преобразуем 3-ю, 4-ю строки, вычитая из них вторую умноженную на коэффиценты:$$\\begin{pmatrix}\n",
    "1 & 1 & 2 & 4\\\\ \n",
    "0 & 3 & 4 & 1\\\\ \n",
    "0 & 0 & 3 & 1\\\\\n",
    "0 & 0 & 21 & 11\n",
    "\\end{pmatrix}$$ получим $$L = \\begin{pmatrix}\n",
    "1 & 0 & 0 & 0\\\\ \n",
    "2 & 1 & 0 & 0\\\\ \n",
    "3 & 5 & 1 & 0\\\\ \n",
    "4 & 6 & l_{34} & 1\n",
    "\\end{pmatrix}$$\n",
    "\n",
    "Вычтем из 4-ой строки 3-ю, умножив на 7$$ U = \\begin{pmatrix}\n",
    "1 & 1 & 2 & 4\\\\ \n",
    "0 & 3 & 4 & 1\\\\ \n",
    "0 & 0 & 3 & 1\\\\ \n",
    "0 & 0 & 0 & 4\n",
    "\\end{pmatrix}$$ получим $$L = \\begin{pmatrix}\n",
    "1 & 0 & 0 & 0\\\\ \n",
    "2 & 1 & 0 & 0\\\\ \n",
    "3 & 5 & 1 & 0\\\\ \n",
    "4 & 6 & 7 & 1\n",
    "\\end{pmatrix}$$"
   ]
  },
  {
   "cell_type": "markdown",
   "metadata": {},
   "source": [
    "#### Задание №3*\n",
    "Решить систему линейных уравнений методом $LU$-разложения\n",
    "\n",
    "$$\\begin{cases}\n",
    "2x_{1}+x_{2}+3x_{3}=1 \\\\\n",
    "11x_{1}+7x_{2}+5x_{3}=-6 \\\\\n",
    "9x_{1}+8x_{2}+4x_{3}=-5\n",
    "\\end{cases}$$"
   ]
  },
  {
   "cell_type": "markdown",
   "metadata": {},
   "source": [
    "$$\\begin{pmatrix}\n",
    "2 & 1 & 3 \\\\ \n",
    "11 & 7 & 5 \\\\ \n",
    "9 & 8 & 4\n",
    "\\end{pmatrix}$$\n",
    "\n",
    "$$\\begin{pmatrix}\n",
    "2 & 1 & 3 \\\\ \n",
    "0 & \\frac{3}{2} & \\frac{-23}{2} \\\\ \n",
    "0 & 0 & \\frac{52}{3}\n",
    "\\end{pmatrix}$$\n",
    "\n",
    "$$U=\\begin{pmatrix}\n",
    "2 & 1 & 3 \\\\ \n",
    "0 & 3 & -23 \\\\ \n",
    "0 & 0 & \\frac{52}{9}\n",
    "\\end{pmatrix}$$\n",
    "\n",
    "$$L=\\begin{pmatrix}\n",
    "1 & 0 & 0 \\\\ \n",
    "\\frac{11}{2} & 1 & 0 \\\\ \n",
    "\\frac{9}{2} & \\frac{7}{2} & 1\n",
    "\\end{pmatrix}$$\n",
    "\n",
    "$Ly=b$\n",
    "\n",
    "$$\\begin{cases}\n",
    "y_{1}=1, \\\\\n",
    "\\frac{11}{2}y_{1}+y_{2}=-6, \\\\\n",
    "\\frac{9}{2}y_{1}+ \\frac{7}{2}y_{2}+y_{3}=-5.\n",
    "\\end{cases}$$\n",
    "\n",
    "$y_{1} = 1,$\n",
    "\n",
    "$y_{2}=-6 -\\frac{11}{2} =11.5$\n",
    "\n",
    "$y_{3}=-5-\\frac{9}{2} - \\frac{7}{2}=-13$\n",
    "\n",
    "$y_{1}=1$\n",
    "\n",
    "$y_{2}=-11.5$\n",
    "\n",
    "$y_{3}= 30.75$\n",
    "\n",
    "$Ux=y$\n",
    "\n",
    "$$\\begin{cases}\n",
    "2x_{1}+x_{2}+3x_{3}=1 \\\\\n",
    "1.5x_{2}-11.5x_{3}=-11.5 \\\\\n",
    "-20x_{3}=30.75\n",
    "\\end{cases}$$\n",
    "\n",
    "$$x_1 = -1$$\n",
    "\n",
    "$$\\begin{cases}\n",
    "2(-1)+3=1 \\\\\n",
    "11(-1)+5=-6 \\\\\n",
    "9(-1)+4=-5\n",
    "\\end{cases}$$"
   ]
  },
  {
   "cell_type": "markdown",
   "metadata": {},
   "source": [
    "#### Задание №4*\n",
    "Решить систему линейных уравнений методом Холецкого\n",
    "\n",
    "$$\\begin{cases}\n",
    "81x_{1}-45x_{2}+45x_{3}=531 \\\\\n",
    "-45x_{1}+50x_{2}-15x_{3}=-460 \\\\\n",
    "45x_{1}-15x_{2}+38x_{3}=193\n",
    "\\end{cases}$$"
   ]
  },
  {
   "cell_type": "markdown",
   "metadata": {},
   "source": [
    "\n",
    "Произведем разложение на $LL^{T}$:\n",
    "\n",
    "$$l_{11}=\\sqrt{a_{11}}=\\sqrt{81}=9,$$$$l_{21}=\\frac{a_{21}}{l_{11}}=\\frac{-45}{9}=-5,$$$$l_{31}=\\frac{a_{31}}{l_{11}}=\\frac{45}{9}=5,$$$$l_{22}=\\sqrt{a_{22}-l_{21}^{2}}=\\sqrt{50 - 25}=5,$$$$l_{32}=\\frac{a_{32}-l_{31}\\cdot l_{21}}{l_{2,2}}=\\frac{-15-5\\cdot (-5)}{5}=2,$$$$l_{33}=\\sqrt{a_{33}-l_{31}^{2}-l_{32}^{2}}=\\sqrt{38-25-4}=3.$$\n",
    "$$L=\\begin{pmatrix}\n",
    " 9 & 0 & 0\\\\ \n",
    "-5 & 5 & 0 \\\\ \n",
    " 5 & 2 & 3\\end{pmatrix}$$\n",
    "$$L^T=\\begin{pmatrix}\n",
    " 9 & -5 & 5\\\\ \n",
    " 0 & 5 & 2 \\\\ \n",
    " 0 & 0 & 3\\end{pmatrix}$$\n",
    "\n",
    "Решим систему $Ly=b:$\n",
    "\n",
    "$$\\begin{cases}\n",
    "9y_{1}=531, \\\\\n",
    "-5y_{1}+5y_{2}=-460, \\\\\n",
    "5y_{1}+2y_{2}+3y_{3}=193.\n",
    "\\end{cases}$$$$y_{1} = 59,$$$$y_{2} = -33,$$$$y_{3}= -12$$\n",
    "И решим систему $L^{T}x=y:$\n",
    "\n",
    "$$\\begin{cases}\n",
    "9x_{1}-5x_{2}+5x_{3}=59, \\\\\n",
    "5x_{2}+2x_{3}=-33, \\\\\n",
    "3x_{3}=-12.\n",
    "\\end{cases}$$$$x_{3}=-4,$$$$x_{2}=\\frac{-33+8}{5}=-5,$$$$x_{1}=\\frac{59+20-25}{9}=6.$$\n",
    "Осуществим проверку, подставив полученные значения в исходную систему:\n",
    "\n",
    "$$\\begin{cases}\n",
    "81\\cdot6-45\\cdot(-5)+45\\cdot(-4)=531, \\\\\n",
    "-45\\cdot6+50\\cdot(-5)-15\\cdot(-4)=-460, \\\\\n",
    "45\\cdot6-15\\cdot(-5)+38\\cdot(-4)=193, \\\\\n",
    "\\end{cases}$$"
   ]
  },
  {
   "cell_type": "markdown",
   "metadata": {},
   "source": [
    "#### Задание №5*\n",
    "Написать на Python программу с реализацией одного из изученных алгоритмов решения СЛАУ."
   ]
  }
 ],
 "metadata": {
  "kernelspec": {
   "display_name": "Python 3",
   "language": "python",
   "name": "python3"
  },
  "language_info": {
   "codemirror_mode": {
    "name": "ipython",
    "version": 3
   },
   "file_extension": ".py",
   "mimetype": "text/x-python",
   "name": "python",
   "nbconvert_exporter": "python",
   "pygments_lexer": "ipython3",
   "version": "3.8.5"
  }
 },
 "nbformat": 4,
 "nbformat_minor": 4
}
