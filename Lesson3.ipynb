{
 "cells": [
  {
   "cell_type": "markdown",
   "metadata": {},
   "source": [
    "## Линейные преобразования"
   ]
  },
  {
   "cell_type": "markdown",
   "metadata": {},
   "source": [
    "### Задание №1\n",
    "Найти собственные векторы и собственные значения для линейного оператора, заданного матрицей\n",
    "\n",
    "$$A=\\begin{pmatrix}\n",
    "-1 & -6\\\\ \n",
    "2 & 6\n",
    "\\end{pmatrix}.$$"
   ]
  },
  {
   "cell_type": "code",
   "execution_count": 2,
   "metadata": {},
   "outputs": [],
   "source": [
    "import numpy as np"
   ]
  },
  {
   "cell_type": "markdown",
   "metadata": {},
   "source": [
    "Вычислим характеристический многочлен линейного оператора:\n",
    "\n",
    "$$det(\\textbf{A}-\\lambda\\textbf{I})$$\n",
    "\n",
    "$$det(\\textbf{A}-\\lambda\\textbf{I})=\\begin{vmatrix}\n",
    "-1-\\lambda & -6\\\\ \n",
    "2 & 6-\\lambda\n",
    "\\end{vmatrix} = \\lambda^{2}-(-1 + 6)\\lambda+(-6 + 12)= \\lambda^{2} - 5\\lambda + 6$$"
   ]
  },
  {
   "cell_type": "markdown",
   "metadata": {},
   "source": [
    "Вычислим корни уравнения $\\lambda^{2} - 5\\lambda + 6$\n",
    "\n",
    "$x_1 = 2, x_2 = 3$"
   ]
  },
  {
   "cell_type": "markdown",
   "metadata": {},
   "source": [
    "$\\begin{pmatrix}\n",
    "-1 & -6\\\\ \n",
    "2 & 6\n",
    "\\end{pmatrix}\n",
    "\\begin{pmatrix}\n",
    "x_{1}\\\\ \n",
    "x_{2}\n",
    "\\end{pmatrix}=\n",
    "\\lambda\n",
    "\\begin{pmatrix}\n",
    "x_{1}\\\\ \n",
    "x_{2}\n",
    "\\end{pmatrix}$\n",
    "\n",
    "$\\lambda = 2$\n",
    "\n",
    "$\\begin{cases}\n",
    "-x_{1}-6x_{2} = 2x_{1}\\\\\n",
    "2x_{1}+6x_{2} = 2x_{2}\n",
    "\\end{cases}$\n",
    "$\\begin{cases}\n",
    "3x_{1} = -6x_{2}\\\\\n",
    "2x_{2} = -x_{1}\n",
    "\\end{cases}$\n",
    "$\\begin{cases}\n",
    "x_{1} = -2x_{2}\\\\\n",
    "2x_{2} = -x_{1}\n",
    "\\end{cases}$\n",
    "$\\begin{cases}\n",
    "x_{1} = -2\\\\\n",
    "x_{2} = 1 \n",
    "\\end{cases}$\n",
    "\n",
    "v1 = (-2, 1)\n",
    "\n",
    "$\\lambda = 3$\n",
    "\n",
    "$\\begin{cases}\n",
    "-x_{1}-6x_{2} = 3x_{1}\\\\\n",
    "2x_{1}+6x_{2} = 3x_{2}\n",
    "\\end{cases}$\n",
    "$\\begin{cases}\n",
    "4x_{1} = -6x_{2}\\\\\n",
    "2x_{1} = -3x_{2}\n",
    "\\end{cases}$\n",
    "$\\begin{cases}\n",
    "x_{1} = -\\frac{3}{2}x_{2}\\\\\n",
    "x_{1} = -\\frac{3}{2}x_{2}\n",
    "\\end{cases}$\n",
    "$\\begin{cases}\n",
    "x_{1} = \\frac{3}{2}\\\\\n",
    "x_{2} = -1\n",
    "\\end{cases}$\n",
    "\n",
    "v2 = ($\\frac{3}{2}$, -1)"
   ]
  },
  {
   "cell_type": "code",
   "execution_count": 3,
   "metadata": {},
   "outputs": [
    {
     "name": "stdout",
     "output_type": "stream",
     "text": [
      "Матрица A:\n",
      "[[-1 -6]\n",
      " [ 2  6]]\n",
      "Собственные значения:\n",
      "[2. 3.]\n",
      "Собственные векторы:\n",
      "[[-0.89442719  0.83205029]\n",
      " [ 0.4472136  -0.5547002 ]]\n"
     ]
    }
   ],
   "source": [
    "A = np.array([[-1, -6], [2, 6]])\n",
    "w, v = np.linalg.eig(A)\n",
    "\n",
    "print(f'Матрица A:\\n{A}')\n",
    "print(f'Собственные значения:\\n{w}')\n",
    "print(f'Собственные векторы:\\n{v}')"
   ]
  },
  {
   "cell_type": "markdown",
   "metadata": {},
   "source": [
    "### Задание №2\n",
    "Дан оператор поворота на 180 градусов, задаваемый матрицей \n",
    "\n",
    "$$A=\\begin{pmatrix}\n",
    "-1 & 0\\\\ \n",
    "0 & -1\n",
    "\\end{pmatrix}.$$\n",
    "\n",
    "Показать, что __любой__ вектор является для него собственным."
   ]
  },
  {
   "cell_type": "markdown",
   "metadata": {},
   "source": [
    "Возьмем вектор  $x=(4,3)$\n",
    "\n",
    "$\n",
    "\\begin{pmatrix}\n",
    "-1 & 0\\\\\n",
    "0 & -1\n",
    "\\end{pmatrix}\\cdot\n",
    "\\begin{pmatrix}\n",
    "4\\\\\n",
    "3\n",
    "\\end{pmatrix}=\\lambda\n",
    "\\begin{pmatrix}\n",
    "4\\\\\n",
    "3\n",
    "\\end{pmatrix}\n",
    "$"
   ]
  },
  {
   "cell_type": "markdown",
   "metadata": {},
   "source": [
    "$\n",
    "\\begin{cases}\n",
    "-4 = \\lambda4\\\\\n",
    "-3 = \\lambda3\n",
    "\\end{cases}\\Rightarrow\n",
    "\\lambda = -1\n",
    "$"
   ]
  },
  {
   "cell_type": "markdown",
   "metadata": {},
   "source": [
    "Собственное значение вектора является -1, отсюда следует, что равенсто будет верно при любых х. Поэтому, любой вектор является собственным."
   ]
  },
  {
   "cell_type": "code",
   "execution_count": 4,
   "metadata": {},
   "outputs": [
    {
     "name": "stdout",
     "output_type": "stream",
     "text": [
      "Матрица A:\n",
      "[[-1  0]\n",
      " [ 0 -1]]\n",
      "Собственные значения:\n",
      "[-1. -1.]\n",
      "Собственные векторы:\n",
      "[[1. 0.]\n",
      " [0. 1.]]\n"
     ]
    }
   ],
   "source": [
    "A = np.array([[-1, 0], [0, -1]])\n",
    "w, v = np.linalg.eig(A)\n",
    "\n",
    "print(f'Матрица A:\\n{A}')\n",
    "print(f'Собственные значения:\\n{w}')\n",
    "print(f'Собственные векторы:\\n{v}')"
   ]
  },
  {
   "cell_type": "markdown",
   "metadata": {},
   "source": [
    "### Задание №3\n",
    "Пусть линейный оператор задан матрицей\n",
    "\n",
    "$$A=\\begin{pmatrix}\n",
    "1 & 1\\\\ \n",
    "-1 & 3\n",
    "\\end{pmatrix}.$$\n",
    "\n",
    "Установить, является ли вектор $x=(1,1)$ собственным вектором этого линейного оператора."
   ]
  },
  {
   "cell_type": "markdown",
   "metadata": {},
   "source": [
    "$x=(1,1)$\n",
    "\n",
    "$\n",
    "\\begin{pmatrix}\n",
    "1 & 1\\\\\n",
    "-1 & 3\n",
    "\\end{pmatrix}\\cdot\n",
    "\\begin{pmatrix}\n",
    "1\\\\\n",
    "1\n",
    "\\end{pmatrix}=\\lambda\n",
    "\\begin{pmatrix}\n",
    "1\\\\\n",
    "1\n",
    "\\end{pmatrix}\n",
    "$"
   ]
  },
  {
   "cell_type": "markdown",
   "metadata": {},
   "source": [
    "$\n",
    "\\begin{cases}\n",
    "2 = \\lambda\\\\\n",
    "-1+3 = \\lambda\n",
    "\\end{cases}\n",
    "\\begin{cases}\n",
    "2 = \\lambda\\\\\n",
    "2 = \\lambda\n",
    "\\end{cases}\\Rightarrow\n",
    "\\lambda = 2\n",
    "$"
   ]
  },
  {
   "cell_type": "markdown",
   "metadata": {},
   "source": [
    "Вектор $x=(1,1)$ является собственным вектором линейного оператора"
   ]
  },
  {
   "cell_type": "code",
   "execution_count": 6,
   "metadata": {},
   "outputs": [
    {
     "data": {
      "text/plain": [
       "array([2., 2.])"
      ]
     },
     "execution_count": 6,
     "metadata": {},
     "output_type": "execute_result"
    }
   ],
   "source": [
    "A = np.array([[1, 1], \n",
    "              [-1, 3]])\n",
    "x = np.array([1, 1])\n",
    "l = np.dot(A, x)\n",
    "l / x"
   ]
  },
  {
   "cell_type": "markdown",
   "metadata": {},
   "source": [
    "### Задание №4\n",
    "Пусть линейный оператор задан матрицей\n",
    "\n",
    "$$A=\\begin{pmatrix}\n",
    "0 & 3 & 0\\\\ \n",
    "3 & 0 & 0\\\\\n",
    "0 & 0 & 3\n",
    "\\end{pmatrix}.$$\n",
    "\n",
    "Установить, является ли вектор $x=(3, -3, -4)$ собственным вектором этого линейного оператора."
   ]
  },
  {
   "cell_type": "markdown",
   "metadata": {},
   "source": [
    "$$\\begin{pmatrix}\n",
    "0 & 3 & 0\\\\ \n",
    "3 & 0 & 0\\\\\n",
    "0 & 0 & 3\n",
    "\\end{pmatrix} \\begin{pmatrix}\n",
    "3 \\\\ \n",
    "-3\\\\\n",
    "-4\n",
    "\\end{pmatrix} = \\lambda \\begin{pmatrix}\n",
    "3 \\\\ \n",
    "-3\\\\\n",
    "-4\n",
    "\\end{pmatrix}$$\n",
    "\n",
    "$\\begin{cases}\n",
    "3\\lambda=-9\\\\ \n",
    "-3\\lambda=9\\\\\n",
    "-4\\lambda=-12\n",
    "\\end{cases}\n",
    "$ $\\Rightarrow\n",
    "\\begin{cases}\n",
    "\\lambda=-3\\\\ \n",
    "\\lambda=-3\\\\\n",
    "\\lambda=3\n",
    "\\end{cases}$"
   ]
  },
  {
   "cell_type": "markdown",
   "metadata": {},
   "source": [
    "Вектор $x=(3, -3, -4)$ не является собственным вектором линейного оператора A."
   ]
  },
  {
   "cell_type": "code",
   "execution_count": 8,
   "metadata": {},
   "outputs": [
    {
     "data": {
      "text/plain": [
       "array([-3., -3.,  3.])"
      ]
     },
     "execution_count": 8,
     "metadata": {},
     "output_type": "execute_result"
    }
   ],
   "source": [
    "A = np.array([[0, 3, 0], [3, 0, 0], [0, 0, 3]])\n",
    "x = np.array([3, -3, -4])\n",
    "l = np.dot(A, x)\n",
    "l / x"
   ]
  }
 ],
 "metadata": {
  "kernelspec": {
   "display_name": "Python 3",
   "language": "python",
   "name": "python3"
  },
  "language_info": {
   "codemirror_mode": {
    "name": "ipython",
    "version": 3
   },
   "file_extension": ".py",
   "mimetype": "text/x-python",
   "name": "python",
   "nbconvert_exporter": "python",
   "pygments_lexer": "ipython3",
   "version": "3.8.5"
  }
 },
 "nbformat": 4,
 "nbformat_minor": 4
}
